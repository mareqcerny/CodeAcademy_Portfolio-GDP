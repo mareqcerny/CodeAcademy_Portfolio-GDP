{
 "cells": [
  {
   "cell_type": "code",
   "execution_count": 18,
   "id": "a9fa93ee",
   "metadata": {},
   "outputs": [],
   "source": [
    "# Loading files into jupyter and openinig csv file\n",
    "\n",
    "import matplotlib.pyplot as plt\n",
    "import seaborn as sns\n",
    "import numpy as np\n",
    "import pandas as pd\n",
    "\n",
    "df = pd.read_csv(\"all_data.csv\")\n",
    "\n",
    "#renaming columns for easy use\n",
    "df.columns=['Country','Year','Life','GDP']\n"
   ]
  },
  {
   "cell_type": "code",
   "execution_count": 19,
   "id": "1eb90684",
   "metadata": {
    "scrolled": true
   },
   "outputs": [],
   "source": [
    "# There is 6 countries, including Chile, China, Germany, Mexico, USA and Zimbabwe\n",
    "# Starting from year 2000 - 2015 included\n",
    "# Life expectancty in years\n",
    "# GDP in U.S. dollars\n"
   ]
  },
  {
   "cell_type": "code",
   "execution_count": 20,
   "id": "bac2907d",
   "metadata": {},
   "outputs": [],
   "source": [
    "# Split data by countries\n",
    "\n",
    "chile = df[df.Country=='Chile']\n",
    "china = df[df.Country=='China']\n",
    "germany = df[df.Country=='Germany']\n",
    "mexico = df[df.Country=='Mexico']\n",
    "usa = df[df.Country=='United States of America']\n",
    "zimbabwe = df[df.Country=='Zimbabwe']\n"
   ]
  },
  {
   "cell_type": "code",
   "execution_count": 21,
   "id": "1c8f4492",
   "metadata": {
    "scrolled": false
   },
   "outputs": [
    {
     "data": {
      "text/plain": [
       "<Figure size 640x480 with 0 Axes>"
      ]
     },
     "metadata": {},
     "output_type": "display_data"
    }
   ],
   "source": [
    "# area chart of GDP, Year and Country\n",
    "\n",
    "plt.fill_between(chile.Year, chile.GDP, color='#003f5c', alpha=0.4,linewidth=1, label='Chile' )\n",
    "plt.fill_between(china.Year, china.GDP, color='#444e86', alpha=0.2,linewidth=1, label='China')\n",
    "plt.fill_between(germany.Year, germany.GDP, color='#955196', alpha=0.2,linewidth=1, label='Germany')\n",
    "plt.fill_between(mexico.Year, mexico.GDP, color='#dd5182', alpha=0.3,linewidth=1, label='Mexico')\n",
    "plt.fill_between(usa.Year, usa.GDP, color='#ff6e54', alpha=0.1,linewidth=1, label='USA')\n",
    "plt.fill_between(zimbabwe.Year, zimbabwe.GDP, color='#ffa600', alpha=0.5,linewidth=1, label='Zimbabwe')\n",
    "plt.legend(fontsize=10, loc=2)\n",
    "plt.xlabel('Years')\n",
    "plt.ylabel('GDP in USD')\n",
    "plt.xticks(chile.Year, size=8)\n",
    "plt.savefig('gdp_all_countries.png')\n",
    "#plt.show()\n",
    "plt.clf()\n"
   ]
  },
  {
   "cell_type": "code",
   "execution_count": 22,
   "id": "c619130e",
   "metadata": {
    "scrolled": false
   },
   "outputs": [
    {
     "data": {
      "text/plain": [
       "<Figure size 640x480 with 0 Axes>"
      ]
     },
     "metadata": {},
     "output_type": "display_data"
    }
   ],
   "source": [
    "# area chart of Life, Year and Country\n",
    "\n",
    "plt.plot(chile.Year, chile.Life, color='#003f5c', alpha=1,linewidth=1, label='Chile' )\n",
    "plt.plot(china.Year, china.Life, color='#444e86', alpha=1,linewidth=1, label='China')\n",
    "plt.plot(germany.Year, germany.Life, color='#955196', alpha=1,linewidth=1, label='Germany')\n",
    "plt.plot(mexico.Year, mexico.Life, color='#dd5182', alpha=1,linewidth=1, label='Mexico')\n",
    "plt.plot(usa.Year, usa.Life, color='#ff6e54', alpha=1,linewidth=1, label='USA')\n",
    "plt.plot(zimbabwe.Year, zimbabwe.Life, color='#ffa600', alpha=1,linewidth=1, label='Zimbabwe')\n",
    "plt.legend(fontsize=10, loc=6)\n",
    "plt.xlabel('Year')\n",
    "plt.ylabel('Life Expectancy')\n",
    "plt.xticks(chile.Year, size=8)\n",
    "plt.savefig('life_all_countries.png')\n",
    "#plt.show()\n",
    "plt.clf()"
   ]
  },
  {
   "cell_type": "code",
   "execution_count": 23,
   "id": "f1c5ccfa",
   "metadata": {},
   "outputs": [
    {
     "data": {
      "text/plain": [
       "<Figure size 640x480 with 0 Axes>"
      ]
     },
     "metadata": {},
     "output_type": "display_data"
    }
   ],
   "source": [
    "# chart of Zimbabwe and Germany + China, relationship of GDP and Life Expectancy\n",
    "\n",
    "#Zimbabwe\n",
    "x=zimbabwe.GDP\n",
    "y=zimbabwe.Life\n",
    "plt.scatter(x,y,color='#003f5c')\n",
    "plt.savefig('rel_zim.png')\n",
    "#plt.show()\n",
    "plt.clf()\n",
    "\n",
    "#Germany and China\n",
    "x=germany.GDP\n",
    "y=germany.Life\n",
    "plt.scatter(x,y,color='#955196')\n",
    "plt.savefig('rel_ger_png')\n",
    "#plt.show()\n",
    "plt.clf()"
   ]
  },
  {
   "cell_type": "code",
   "execution_count": 24,
   "id": "e6135bda",
   "metadata": {},
   "outputs": [
    {
     "name": "stdout",
     "output_type": "stream",
     "text": [
      "Mean of Chile is :  169788845015.3125\n",
      "Max of Chile is :  278384000000.0\n",
      "Min of Chile is :  69736811435.0\n",
      "Mean of China is :  4957713750000.0\n",
      "Max of China is :  11064700000000.0\n",
      "Min of China is :  1211350000000.0\n",
      "Mean of Germany is :  3094775625000.0\n",
      "Max of Germany is :  3890610000000.0\n",
      "Min of Germany is :  1949950000000.0\n",
      "Mean of Mexico is :  976650625000.0\n",
      "Max of Mexico is :  1298460000000.0\n",
      "Min of Mexico is :  683648000000.0\n",
      "Mean of USA is :  14075000000000.0\n",
      "Max of USA is :  18100000000000.0\n",
      "Min of USA is :  10300000000000.0\n",
      "Mean of Zimbabwe is :  9062579595.0625\n",
      "Max of Zimbabwe is :  16304667807.0\n",
      "Min of Zimbabwe is :  4415702800.0\n"
     ]
    }
   ],
   "source": [
    "\n",
    "# Mean, Min and Max\n",
    "\n",
    "#Chile\n",
    "print('Mean of Chile is : ',np.mean(chile.GDP))\n",
    "print('Max of Chile is : ',np.max(chile.GDP))\n",
    "print('Min of Chile is : ',np.min(chile.GDP))\n",
    "#China\n",
    "print('Mean of China is : ',np.mean(china.GDP))\n",
    "print('Max of China is : ',np.max(china.GDP))\n",
    "print('Min of China is : ',np.min(china.GDP))\n",
    "#Germany\n",
    "print('Mean of Germany is : ',np.mean(germany.GDP))\n",
    "print('Max of Germany is : ',np.max(germany.GDP))\n",
    "print('Min of Germany is : ',np.min(germany.GDP))\n",
    "#Mexico\n",
    "print('Mean of Mexico is : ',np.mean(mexico.GDP))\n",
    "print('Max of Mexico is : ',np.max(mexico.GDP))\n",
    "print('Min of Mexico is : ',np.min(mexico.GDP))\n",
    "#USA\n",
    "print('Mean of USA is : ',np.mean(usa.GDP))\n",
    "print('Max of USA is : ',np.max(usa.GDP))\n",
    "print('Min of USA is : ',np.min(usa.GDP))\n",
    "#Zimbabwe\n",
    "print('Mean of Zimbabwe is : ',np.mean(zimbabwe.GDP))\n",
    "print('Max of Zimbabwe is : ',np.max(zimbabwe.GDP))\n",
    "print('Min of Zimbabwe is : ',np.min(zimbabwe.GDP))\n"
   ]
  }
 ],
 "metadata": {
  "kernelspec": {
   "display_name": "Python 3 (ipykernel)",
   "language": "python",
   "name": "python3"
  },
  "language_info": {
   "codemirror_mode": {
    "name": "ipython",
    "version": 3
   },
   "file_extension": ".py",
   "mimetype": "text/x-python",
   "name": "python",
   "nbconvert_exporter": "python",
   "pygments_lexer": "ipython3",
   "version": "3.9.13"
  }
 },
 "nbformat": 4,
 "nbformat_minor": 5
}
